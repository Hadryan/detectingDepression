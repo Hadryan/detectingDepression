{
  "nbformat": 4,
  "nbformat_minor": 0,
  "metadata": {
    "kernelspec": {
      "display_name": "Python 3",
      "language": "python",
      "name": "python3"
    },
    "language_info": {
      "codemirror_mode": {
        "name": "ipython",
        "version": 3
      },
      "file_extension": ".py",
      "mimetype": "text/x-python",
      "name": "python",
      "nbconvert_exporter": "python",
      "pygments_lexer": "ipython3",
      "version": "3.7.0"
    },
    "colab": {
      "name": "detectingDepression.ipynb",
      "provenance": []
    }
  },
  "cells": [
    {
      "cell_type": "code",
      "metadata": {
        "id": "sf6jlbA40DRC",
        "colab_type": "code",
        "colab": {}
      },
      "source": [
        "# importing necessary libraries \n",
        "from sklearn import datasets \n",
        "from sklearn.metrics import confusion_matrix \n",
        "from sklearn.model_selection import train_test_split \n",
        "from sklearn.metrics import precision_recall_fscore_support\n",
        "from sklearn.metrics import classification_report\n",
        "import numpy as np\n",
        "\n",
        "import io\n",
        "import matplotlib.pyplot as plt\n",
        "import os\n",
        "import pandas as pd \n",
        "  \n",
        "# loading the iris dataset \n",
        "trainData = pd.read_csv(\"/Users/ismaelvillanuevamiranda/DATOS/DATOS/depressionData/trainData/noFeatures/trainData.binary\")\n",
        "testData = pd.read_csv(\"/Users/ismaelvillanuevamiranda/DATOS/DATOS/depressionData/testData/noFeatures/testData.binary\")\n"
      ],
      "execution_count": 0,
      "outputs": []
    },
    {
      "cell_type": "code",
      "metadata": {
        "id": "dNN3NpZQ0DRI",
        "colab_type": "code",
        "colab": {}
      },
      "source": [
        "import pandas as pd\n",
        "import numpy as np\n",
        "import seaborn as sns\n",
        "\n",
        "import matplotlib.pyplot as plt\n",
        "\n",
        "%matplotlib inline\n"
      ],
      "execution_count": 0,
      "outputs": []
    },
    {
      "cell_type": "code",
      "metadata": {
        "id": "NwNhSADq0DRL",
        "colab_type": "code",
        "colab": {}
      },
      "source": [
        "#df = pd.read_csv('/Users/ismaelvillanuevamiranda/DATOS/DATOS/Fall2018/SLP/depressionData/trainData/noFeatures/trainData.binary')\n",
        "trainData.head()"
      ],
      "execution_count": 0,
      "outputs": []
    },
    {
      "cell_type": "code",
      "metadata": {
        "scrolled": true,
        "id": "5ePYKh9l0DRP",
        "colab_type": "code",
        "colab": {}
      },
      "source": [
        "trainData.corr()"
      ],
      "execution_count": 0,
      "outputs": []
    },
    {
      "cell_type": "code",
      "metadata": {
        "id": "9TXs37tw0DRS",
        "colab_type": "code",
        "colab": {}
      },
      "source": [
        "trainData.isnull().sum()"
      ],
      "execution_count": 0,
      "outputs": []
    },
    {
      "cell_type": "code",
      "metadata": {
        "id": "tjsKCNhy0DRX",
        "colab_type": "code",
        "colab": {},
        "outputId": "407ef2b4-378f-42d3-9dec-05dd55481a03"
      },
      "source": [
        "print(\"Total number of labels: {}\".format(trainData.shape[0]))\n",
        "print(\"Number of No Depressed: {}\".format(trainData[trainData.label == 0].shape[0]))\n",
        "print(\"Number of Depressed: {}\".format(trainData[trainData.label == 1].shape[0]))"
      ],
      "execution_count": 0,
      "outputs": [
        {
          "output_type": "stream",
          "text": [
            "Total number of labels: 107\n",
            "Number of No Depressed: 77\n",
            "Number of Depressed: 30\n"
          ],
          "name": "stdout"
        }
      ]
    },
    {
      "cell_type": "code",
      "metadata": {
        "id": "WY4DFgl00DRa",
        "colab_type": "code",
        "colab": {}
      },
      "source": [
        "X_train=trainData.iloc[:, :-1]\n",
        "X_train.head()\n",
        "print(X_train.shape)\n",
        "from sklearn.preprocessing import LabelEncoder\n",
        "y_train=trainData.iloc[:,-1]\n",
        "\n",
        "trainEncoder = LabelEncoder()\n",
        "y_train = trainEncoder.fit_transform(y_train)\n",
        "\n",
        "print(y_train)\n",
        "\n",
        "\n",
        "\n",
        "\n",
        "X_test=testData.iloc[:, :-1]\n",
        "X_test.head()\n",
        "print(X_test.shape)\n",
        "from sklearn.preprocessing import LabelEncoder\n",
        "y_test=testData.iloc[:,-1]\n",
        "\n",
        "testEncoder = LabelEncoder()\n",
        "y_test = testEncoder.fit_transform(y_test)\n",
        "\n",
        "print(y_test)\n",
        "\n"
      ],
      "execution_count": 0,
      "outputs": []
    },
    {
      "cell_type": "code",
      "metadata": {
        "id": "sfC1H1qh0DRd",
        "colab_type": "code",
        "colab": {}
      },
      "source": [
        "# Scaling the data to be between -1 and 1\n",
        "#Trainin data\n",
        "print(X_train)\n",
        "from sklearn.preprocessing import StandardScaler\n",
        "scaler = StandardScaler()\n",
        "scaler.fit(X_train)\n",
        "X_train = scaler.transform(X_train)\n",
        "print(X_train)\n",
        "\n",
        "#Testing\n",
        "print(X_test)\n",
        "from sklearn.preprocessing import StandardScaler\n",
        "scaler = StandardScaler()\n",
        "scaler.fit(X_test)\n",
        "X_test = scaler.transform(X_test)\n",
        "print(X_test)"
      ],
      "execution_count": 0,
      "outputs": []
    },
    {
      "cell_type": "code",
      "metadata": {
        "id": "J8xzBuuK0DRf",
        "colab_type": "code",
        "colab": {}
      },
      "source": [
        "#Default hyperparameters\n",
        "from sklearn.svm import SVC\n",
        "from sklearn import metrics\n",
        "from pprint import pprint\n",
        "from sklearn.metrics import f1_score\n",
        "svc=SVC() \n",
        "svc.fit(X_train,y_train)\n",
        "y_pred=svc.predict(X_test)\n",
        "# pprint(svc.get_params())\n",
        "print('Accuracy Score:')\n",
        "print(metrics.accuracy_score(y_test,y_pred))\n",
        "print('F1:')\n",
        "print(metrics.f1_score(y_test, y_pred, average='weighted', labels=np.unique(y_pred)))\n",
        "print('Precision:')\n",
        "print(metrics.precision_score(y_test, y_pred, average='weighted', labels=np.unique(y_pred)))\n",
        "print('Recall:')\n",
        "print(metrics.recall_score(y_test, y_pred, average='weighted', labels=np.unique(y_pred)))\n",
        "print('Mean squared error:')\n",
        "print(metrics.mean_squared_error(y_test, y_pred))\n",
        "print('Mean absolute error:')\n",
        "print(metrics.mean_absolute_error(y_test, y_pred))\n",
        "print(classification_report(y_test, y_pred, labels=np.unique(y_pred)))"
      ],
      "execution_count": 0,
      "outputs": []
    },
    {
      "cell_type": "code",
      "metadata": {
        "id": "uqXRyNcx0DRi",
        "colab_type": "code",
        "colab": {}
      },
      "source": [
        "svc=SVC(kernel='linear')\n",
        "svc.fit(X_train,y_train)\n",
        "y_pred=svc.predict(X_test)\n",
        "#pprint(svc.get_params())\n",
        "print('Accuracy Score:')\n",
        "print(metrics.accuracy_score(y_pred,y_test))\n",
        "print('Mean squared error:')\n",
        "print(metrics.mean_squared_error(y_test, y_pred))\n",
        "print(classification_report(y_test, y_pred, labels=np.unique(y_pred)))"
      ],
      "execution_count": 0,
      "outputs": []
    },
    {
      "cell_type": "code",
      "metadata": {
        "id": "9_4I_H2H0DRl",
        "colab_type": "code",
        "colab": {}
      },
      "source": [
        "svc=SVC(kernel='rbf')\n",
        "svc.fit(X_train,y_train)\n",
        "y_pred=svc.predict(X_test)\n",
        "# pprint(svc.get_params())\n",
        "\n",
        "print(classification_report(y_test, y_pred, labels=np.unique(y_pred)))"
      ],
      "execution_count": 0,
      "outputs": []
    },
    {
      "cell_type": "code",
      "metadata": {
        "id": "axieaeVz0DRo",
        "colab_type": "code",
        "colab": {}
      },
      "source": [
        "svc=SVC(kernel='poly')\n",
        "svc.fit(X_train,y_train)\n",
        "y_pred=svc.predict(X_test)\n",
        "# pprint(svc.get_params())\n",
        "print('Accuracy Score:')\n",
        "print(metrics.accuracy_score(y_pred,y_test))\n",
        "print('Mean squared error:')\n",
        "print(metrics.mean_squared_error(y_test, y_pred))\n",
        "print(classification_report(y_test, y_pred, labels=np.unique(y_pred)))\n",
        "plt.scatter(y_test, y_pred)\n",
        "plt.xlabel(\"True Values\")\n",
        "plt.ylabel(\"Predictions\")\n",
        "print(y_test)\n",
        "print(y_pred)"
      ],
      "execution_count": 0,
      "outputs": []
    },
    {
      "cell_type": "code",
      "metadata": {
        "id": "ECP0PjaI0DRq",
        "colab_type": "code",
        "colab": {}
      },
      "source": [
        "#Performing K-fold cross validation with different kernels\n",
        "from sklearn.cross_validation import cross_val_score\n",
        "svc=SVC(kernel='linear')\n",
        "scores = cross_val_score(svc, X_train, y_train, cv=10, scoring='accuracy') #cv is cross validation\n",
        "print(scores)\n",
        "print(scores.mean())\n"
      ],
      "execution_count": 0,
      "outputs": []
    },
    {
      "cell_type": "code",
      "metadata": {
        "id": "w9UejXDH0DRt",
        "colab_type": "code",
        "colab": {}
      },
      "source": [
        "#\n",
        "from sklearn.cross_validation import cross_val_score\n",
        "svc=SVC(kernel='rbf')\n",
        "scores = cross_val_score(svc, X_train, y_train, cv=10, scoring='accuracy') #cv is cross validation\n",
        "print(scores)\n",
        "print(scores.mean())"
      ],
      "execution_count": 0,
      "outputs": []
    },
    {
      "cell_type": "code",
      "metadata": {
        "id": "1iN78qJo0DRv",
        "colab_type": "code",
        "colab": {}
      },
      "source": [
        "#CV on Polynomial kernel\n",
        "from sklearn.cross_validation import cross_val_score\n",
        "svc=SVC(kernel='poly')\n",
        "scores = cross_val_score(svc, X_train, y_train, cv=10, scoring='accuracy') #cv is cross validation\n",
        "print(scores)\n",
        "print(scores.mean())\n"
      ],
      "execution_count": 0,
      "outputs": []
    },
    {
      "cell_type": "code",
      "metadata": {
        "id": "csLrfF1x0DRy",
        "colab_type": "code",
        "colab": {}
      },
      "source": [
        "C_range=list(range(1,26))\n",
        "acc_score=[]\n",
        "for c in C_range:\n",
        "    svc = SVC(kernel='poly', C=c)\n",
        "    scores = cross_val_score(svc, X_train, y_train, cv=10, scoring='accuracy')\n",
        "    acc_score.append(scores.mean())\n",
        "print(acc_score)"
      ],
      "execution_count": 0,
      "outputs": []
    },
    {
      "cell_type": "code",
      "metadata": {
        "id": "GEyfThMa0DR1",
        "colab_type": "code",
        "colab": {},
        "outputId": "39031588-0c86-4b63-d322-39547386e7d7"
      },
      "source": [
        "import matplotlib.pyplot as plt\n",
        "%matplotlib inline\n",
        "\n",
        "\n",
        "C_values=list(range(1,26))\n",
        "# plot the value of C for SVM (x-axis) versus the cross-validated accuracy (y-axis)\n",
        "plt.plot(C_values,acc_score)\n",
        "plt.xticks(np.arange(0,27,2))\n",
        "plt.xlabel('Value of C for SVC')\n",
        "plt.ylabel('Cross-Validated Accuracy')"
      ],
      "execution_count": 0,
      "outputs": [
        {
          "output_type": "execute_result",
          "data": {
            "text/plain": [
              "Text(0,0.5,'Cross-Validated Accuracy')"
            ]
          },
          "metadata": {
            "tags": []
          },
          "execution_count": 109
        },
        {
          "output_type": "display_data",
          "data": {
            "image/png": "[encoded data removed]",
            "text/plain": [
              "<Figure size 432x288 with 1 Axes>"
            ]
          },
          "metadata": {
            "tags": [],
            "needs_background": "light"
          }
        }
      ]
    },
    {
      "cell_type": "code",
      "metadata": {
        "id": "0jLNCzAV0DR4",
        "colab_type": "code",
        "colab": {}
      },
      "source": [
        "degree=[2,3,4,5,6]\n",
        "acc_score=[]\n",
        "for d in degree:\n",
        "    svc = SVC(kernel='poly', degree=d)\n",
        "    scores = cross_val_score(svc, X_train, y_train, cv=10, scoring='accuracy')\n",
        "    acc_score.append(scores.mean())\n",
        "print(acc_score) "
      ],
      "execution_count": 0,
      "outputs": []
    },
    {
      "cell_type": "code",
      "metadata": {
        "id": "LLR-3czU0DR6",
        "colab_type": "code",
        "colab": {},
        "outputId": "cb29d1fe-7e91-4564-db37-e4b10f78127e"
      },
      "source": [
        "import matplotlib.pyplot as plt\n",
        "%matplotlib inline\n",
        "\n",
        "degree=[2,3,4,5,6]\n",
        "\n",
        "# plot the value of C for SVM (x-axis) versus the cross-validated accuracy (y-axis)\n",
        "plt.plot(degree,acc_score,color='r')\n",
        "plt.xlabel('degrees for SVC ')\n",
        "plt.ylabel('Cross-Validated Accuracy')"
      ],
      "execution_count": 0,
      "outputs": [
        {
          "output_type": "execute_result",
          "data": {
            "text/plain": [
              "Text(0,0.5,'Cross-Validated Accuracy')"
            ]
          },
          "metadata": {
            "tags": []
          },
          "execution_count": 111
        },
        {
          "output_type": "display_data",
          "data": {
            "image/png": "[encoded data removed]",
            "text/plain": [
              "<Figure size 432x288 with 1 Axes>"
            ]
          },
          "metadata": {
            "tags": [],
            "needs_background": "light"
          }
        }
      ]
    },
    {
      "cell_type": "code",
      "metadata": {
        "id": "Hh7Nz8yx0DR8",
        "colab_type": "code",
        "colab": {}
      },
      "source": [
        "from sklearn.svm import SVC\n",
        "svm_model= SVC()\n",
        "\n",
        "tuned_parameters = {\n",
        " 'C': (np.arange(0.1,1,0.1)) , 'kernel': ['linear'],\n",
        " 'C': (np.arange(0.1,1,0.1)) , 'gamma': [0.01,0.02,0.03,0.04,0.05], 'kernel': ['rbf'],\n",
        " 'degree': [2,3,4] ,'gamma':[0.01,0.02,0.03,0.04,0.05], 'C':(np.arange(0.1,1,0.1)) , 'kernel':['poly']\n",
        "                   }\n",
        "from sklearn.grid_search import GridSearchCV\n",
        "\n",
        "model_svm = GridSearchCV(svm_model, tuned_parameters,cv=10,scoring='accuracy')\n",
        "\n",
        "model_svm.fit(X_train, y_train)\n",
        "print(model_svm.best_score_)"
      ],
      "execution_count": 0,
      "outputs": []
    },
    {
      "cell_type": "code",
      "metadata": {
        "id": "qKZDohxn0DR-",
        "colab_type": "code",
        "colab": {}
      },
      "source": [
        "print(model_svm.best_params_)"
      ],
      "execution_count": 0,
      "outputs": []
    },
    {
      "cell_type": "code",
      "metadata": {
        "id": "2iRW064k0DSB",
        "colab_type": "code",
        "colab": {}
      },
      "source": [
        "y_pred= model_svm.predict(X_test)\n",
        "print(\"Accuracy:\")\n",
        "print(metrics.accuracy_score(y_test,y_pred))\n",
        "print(classification_report(y_test, y_pred))\n",
        "print(\"Mean absolute error:\")\n",
        "print(metrics.mean_absolute_error(y_test, y_pred))\n",
        "#print(classification_report(y_pred, y_test))"
      ],
      "execution_count": 0,
      "outputs": []
    }
  ]
}